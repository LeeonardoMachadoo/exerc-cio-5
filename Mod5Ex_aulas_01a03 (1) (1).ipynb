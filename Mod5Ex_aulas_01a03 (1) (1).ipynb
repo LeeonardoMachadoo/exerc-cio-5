{
 "cells": [
  {
   "cell_type": "markdown",
   "metadata": {},
   "source": [
    "# Módulo 5 Tarefa 1\n",
    "## Base de nascidos vivos do DataSUS\n",
    "O DataSUS disponibiliza diversos arquivos de dados com relação a seus segurados, conforme a [lei da transparência de informações públicas](https://www.sisgov.com/transparencia-acesso-informacao/#:~:text=A%20Lei%20da%20Transpar%C3%AAncia%20(LC,em%20um%20site%20na%20internet.). \n",
    "\n",
    "Essas informações podem ser obtidas pela internet [aqui](http://www2.datasus.gov.br/DATASUS/index.php?area=0901&item=1). Como o processo de obtenção desses arquivos foge um pouco do nosso escopo, deixamos o arquivo SINASC_RO_2019.csv` já como vai ser encontrado no DataSUS. O dicionário de dados está no arquivo `estrutura_sinasc_para_CD.pdf` (o nome do arquivo tal qual no portal do DataSUS).\n",
    "\n",
    "### Nosso objetivo\n",
    "Queremos deixar uma base organizada para podermos estudar a relação entre partos com risco para o bebê e algumas condições como tempo de parto, consultas de pré-natal etc.\n",
    "\n",
    "#### Preparação da base\n",
    "1. Carregue a base 'SINASC_RO_2019.csv'. Conte o número de registros e o número de registros não duplicados da base. Dica: você aprendeu um método que remove duplicados, encadeie este método com um outro método que conta o número de linhas. **Há linhas duplicadas?**  \n",
    "\n",
    "2. Conte o número de valores *missing* por variável.  \n",
    "\n",
    "3. Ok, no item anterior você deve ter achado pouco prático ler a informação de tantas variáveis, muitas delas nem devem ser interesantes. Então crie uma seleção dessa base somente com as colunas que interessam. São elas:\n",
    "` \n",
    "['LOCNASC', 'IDADEMAE', 'ESTCIVMAE', 'ESCMAE', 'QTDFILVIVO', \n",
    "    'GESTACAO', 'GRAVIDEZ', 'CONSULTAS', 'APGAR5'] \n",
    "`\n",
    "Refaça a contagem de valores *missings*.  \n",
    "\n",
    "4. Apgar é uma *nota* que o pediatra dá ao bebê quando nasce de acordo com algumas características associadas principalmente à respiração. Apgar 1 e Apgar 5 são as notas 1 e 5 minutos do nascimento. Apgar5 será a nossa variável de interesse principal. Então remova todos os registros com Apgar5 não preenchido. Para esta seleção, conte novamente o número de linhas e o número de *missings*.  \n",
    "\n",
    "5. observe que as variáveis `['ESTCIVMAE', 'CONSULTAS']` possuem o código `9`, que significa *ignorado*. Vamos assumir que o não preenchido é o mesmo que o código `9`.<br>\n",
    "6. Substitua os valores faltantes da quantitativa (`QTDFILVIVO`) por zero.  \n",
    "7. Das restantes, decida que valore te parece mais adequado (um 'não preenchido' ou um valor 'mais provável' como no item anterior) e preencha. Justifique. Lembre-se de que tratamento de dados é trabalho do cientista, e que estamos tomando decisões a todo o momento - não há necessariamente certo e errado aqui.  \n",
    "8. O Apgar possui uma classificação indicando se o bebê passou por asfixia:\n",
    "- Entre 8 e 10 está em uma faixa 'normal'. \n",
    "- Entre 6 e 7, significa que o recém-nascido passou por 'asfixia leve'. \n",
    "- Entre 4 e 5 significa 'asfixia moderada'.\n",
    "- Entre 0 e 3 significa 'asfixia severa'.  \n",
    "\n",
    "Crie uma categorização dessa variável com essa codificação e calcule as frequências dessa categorização.  \n",
    "<br>\n",
    "9. Renomeie as variáveis para que fiquem no *snake case*, ou seja, em letras minúsculas, com um *underscore* entre as palávras. Dica: repare que se você não quiser criar um *dataframe* novo, você vai precisar usar a opção `inplace = True`."
   ]
  },
  {
   "cell_type": "code",
   "execution_count": 82,
   "metadata": {},
   "outputs": [
    {
     "name": "stdout",
     "output_type": "stream",
     "text": [
      "(27028, 69)\n"
     ]
    },
    {
     "data": {
      "text/plain": [
       "(27028, 69)"
      ]
     },
     "execution_count": 82,
     "metadata": {},
     "output_type": "execute_result"
    }
   ],
   "source": [
    "import pandas as pd\n",
    "import requests\n",
    "\n",
    "# 1) seu código aqui\n",
    "sinasc = pd.read_csv('SINASC_RO_2019.csv')\n",
    "print(sinasc.shape)\n",
    "sinasc.drop_duplicates().shape\n",
    "# Não há duplicados"
   ]
  },
  {
   "cell_type": "code",
   "execution_count": 83,
   "metadata": {},
   "outputs": [
    {
     "name": "stdout",
     "output_type": "stream",
     "text": [
      "Total de registros: 27028\n",
      "Registros não duplicados: 27028\n"
     ]
    }
   ],
   "source": [
    "total_registros = sinasc.shape[0]\n",
    "registros_unicos = sinasc.drop_duplicates().shape[0]\n",
    "print(f'Total de registros: {total_registros}')\n",
    "print(f'Registros não duplicados: {registros_unicos}')"
   ]
  },
  {
   "cell_type": "code",
   "execution_count": 84,
   "metadata": {},
   "outputs": [
    {
     "name": "stdout",
     "output_type": "stream",
     "text": [
      "Linhas duplicadas: 0\n",
      "ORIGEM          0\n",
      "CODESTAB      115\n",
      "CODMUNNASC      0\n",
      "LOCNASC         0\n",
      "IDADEMAE        0\n",
      "             ... \n",
      "munResUf        0\n",
      "munResLat       1\n",
      "munResLon       1\n",
      "munResAlt       1\n",
      "munResArea      1\n",
      "Length: 69, dtype: int64\n"
     ]
    }
   ],
   "source": [
    "linhas_duplicadas = total_registros - registros_unicos\n",
    "print(f'Linhas duplicadas: {linhas_duplicadas}')\n",
    "missing_por_variavel = sinasc.isnull().sum()\n",
    "print(missing_por_variavel)"
   ]
  },
  {
   "cell_type": "code",
   "execution_count": 85,
   "metadata": {},
   "outputs": [
    {
     "name": "stdout",
     "output_type": "stream",
     "text": [
      "LOCNASC          0\n",
      "IDADEMAE         0\n",
      "ESTCIVMAE      317\n",
      "ESCMAE         312\n",
      "QTDFILVIVO    1573\n",
      "GESTACAO      1232\n",
      "GRAVIDEZ        79\n",
      "CONSULTAS        0\n",
      "APGAR5         103\n",
      "dtype: int64\n"
     ]
    }
   ],
   "source": [
    "colunas_interesse = ['LOCNASC', 'IDADEMAE', 'ESTCIVMAE', 'ESCMAE', 'QTDFILVIVO', 'GESTACAO', 'GRAVIDEZ', 'CONSULTAS', 'APGAR5']\n",
    "sinasc_interesse = sinasc[colunas_interesse]\n",
    "missing_colunas_interesse = sinasc_interesse.isnull().sum()\n",
    "print(missing_colunas_interesse)"
   ]
  },
  {
   "cell_type": "code",
   "execution_count": 86,
   "metadata": {},
   "outputs": [
    {
     "name": "stdout",
     "output_type": "stream",
     "text": [
      "Número de linhas após remoção: 26925\n",
      "LOCNASC          0\n",
      "IDADEMAE         0\n",
      "ESTCIVMAE      315\n",
      "ESCMAE         310\n",
      "QTDFILVIVO    1566\n",
      "GESTACAO      1216\n",
      "GRAVIDEZ        76\n",
      "CONSULTAS        0\n",
      "APGAR5           0\n",
      "dtype: int64\n"
     ]
    }
   ],
   "source": [
    "sinasc_apgar5 = sinasc_interesse.dropna(subset=['APGAR5'])\n",
    "linhas_apos_remocao = sinasc_apgar5.shape[0]\n",
    "sinasc_apgar5.isnull().sum()\n",
    "print(f'Número de linhas após remoção: {linhas_apos_remocao}')\n",
    "print(missing_apos_remocao)"
   ]
  },
  {
   "cell_type": "code",
   "execution_count": 88,
   "metadata": {},
   "outputs": [
    {
     "name": "stdout",
     "output_type": "stream",
     "text": [
      "   locnasc  idademae  estcivmae           escmae  qtdfilvivo         gestacao  \\\n",
      "0        1        19        5.0      8 a 11 anos         0.0  37 a 41 semanas   \n",
      "1        1        29        2.0      8 a 11 anos         1.0  37 a 41 semanas   \n",
      "2        1        37        9.0      8 a 11 anos         2.0  37 a 41 semanas   \n",
      "3        1        30        5.0  12 anos ou mais         0.0  37 a 41 semanas   \n",
      "4        1        30        2.0      8 a 11 anos         1.0  37 a 41 semanas   \n",
      "\n",
      "  gravidez  consultas  apgar5 class_apgar5  \n",
      "0    Única          4    10.0       normal  \n",
      "1    Única          4     9.0       normal  \n",
      "2    Única          4    10.0       normal  \n",
      "3    Única          3    10.0       normal  \n",
      "4    Única          4    10.0       normal  \n"
     ]
    }
   ],
   "source": [
    "sinasc_apgar5.loc[sinasc_apgar5['ESTCIVMAE'].isnull(), 'ESTCIVMAE'] = 9\n",
    "\n",
    "\n",
    "sinasc_apgar5['ESCMAE'].ffill(inplace=True)\n",
    "sinasc_apgar5['GESTACAO'].bfill(inplace=True)\n",
    "\n",
    "\n",
    "mode_gravidez = sinasc_apgar5['GRAVIDEZ'].mode()[0]\n",
    "sinasc_apgar5.loc[sinasc_apgar5['GRAVIDEZ'].isnull(), 'GRAVIDEZ'] = mode_gravidez\n",
    "\n",
    "\n",
    "sinasc_apgar5.loc[sinasc_apgar5['APGAR5'] > 7, 'class_apgar5'] = 'normal'\n",
    "sinasc_apgar5.loc[(sinasc_apgar5['APGAR5'] > 5) & (sinasc_apgar5['APGAR5'] <= 7), 'class_apgar5'] = 'asfixia leve'\n",
    "sinasc_apgar5.loc[(sinasc_apgar5['APGAR5'] > 3) & (sinasc_apgar5['APGAR5'] <= 5), 'class_apgar5'] = 'asfixia moderada'\n",
    "sinasc_apgar5.loc[sinasc_apgar5['APGAR5'] <= 3, 'class_apgar5'] = 'asfixia severa'\n",
    "\n",
    "\n",
    "sinasc_apgar5.rename(columns=str.lower, inplace=True)\n",
    "\n",
    "\n",
    "print(sinasc_apgar5.head())\n",
    "\n",
    "import warnings\n",
    "warnings.filterwarnings('ignore')"
   ]
  },
  {
   "cell_type": "code",
   "execution_count": null,
   "metadata": {},
   "outputs": [],
   "source": []
  }
 ],
 "metadata": {
  "kernelspec": {
   "display_name": "Python 3 (ipykernel)",
   "language": "python",
   "name": "python3"
  },
  "language_info": {
   "codemirror_mode": {
    "name": "ipython",
    "version": 3
   },
   "file_extension": ".py",
   "mimetype": "text/x-python",
   "name": "python",
   "nbconvert_exporter": "python",
   "pygments_lexer": "ipython3",
   "version": "3.11.7"
  }
 },
 "nbformat": 4,
 "nbformat_minor": 4
}
